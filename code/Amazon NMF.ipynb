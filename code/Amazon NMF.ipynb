{
 "cells": [
  {
   "cell_type": "code",
   "execution_count": 1,
   "metadata": {},
   "outputs": [],
   "source": [
    "import pandas as pd\n",
    "from sklearn.feature_extraction.text import CountVectorizer \n",
    "from sklearn.decomposition import TruncatedSVD\n",
    "from sklearn.decomposition import NMF\n",
    "from sklearn.metrics.pairwise import cosine_similarity\n",
    "from sklearn.feature_extraction.text import TfidfVectorizer\n",
    "\n",
    "import nltk\n",
    "from nltk.corpus import stopwords"
   ]
  },
  {
   "cell_type": "code",
   "execution_count": 2,
   "metadata": {},
   "outputs": [],
   "source": [
    "df = pd.read_csv('amazon_clean4.csv')"
   ]
  },
  {
   "cell_type": "code",
   "execution_count": 3,
   "metadata": {},
   "outputs": [],
   "source": [
    "df =df.dropna()"
   ]
  },
  {
   "cell_type": "code",
   "execution_count": 4,
   "metadata": {
    "scrolled": false
   },
   "outputs": [
    {
     "data": {
      "text/html": [
       "<div>\n",
       "<style scoped>\n",
       "    .dataframe tbody tr th:only-of-type {\n",
       "        vertical-align: middle;\n",
       "    }\n",
       "\n",
       "    .dataframe tbody tr th {\n",
       "        vertical-align: top;\n",
       "    }\n",
       "\n",
       "    .dataframe thead th {\n",
       "        text-align: right;\n",
       "    }\n",
       "</style>\n",
       "<table border=\"1\" class=\"dataframe\">\n",
       "  <thead>\n",
       "    <tr style=\"text-align: right;\">\n",
       "      <th></th>\n",
       "      <th>product_title</th>\n",
       "      <th>star_rating</th>\n",
       "      <th>review_body</th>\n",
       "    </tr>\n",
       "  </thead>\n",
       "  <tbody>\n",
       "    <tr>\n",
       "      <th>0</th>\n",
       "      <td>Madden NFL 16 - Xbox One Digital Code</td>\n",
       "      <td>2</td>\n",
       "      <td>I keep buying madden every year hoping they ge...</td>\n",
       "    </tr>\n",
       "    <tr>\n",
       "      <th>1</th>\n",
       "      <td>Command &amp; Conquer The Ultimate Collection [Ins...</td>\n",
       "      <td>5</td>\n",
       "      <td>If you are prepping for the end of the world t...</td>\n",
       "    </tr>\n",
       "    <tr>\n",
       "      <th>2</th>\n",
       "      <td>Sims 4</td>\n",
       "      <td>4</td>\n",
       "      <td>i like the new skills like herbalism in this, ...</td>\n",
       "    </tr>\n",
       "    <tr>\n",
       "      <th>3</th>\n",
       "      <td>Sid Meier's Civilization V</td>\n",
       "      <td>1</td>\n",
       "      <td>As has been written by so many others, I quick...</td>\n",
       "    </tr>\n",
       "    <tr>\n",
       "      <th>4</th>\n",
       "      <td>Build-a-lot 4: Power Source [Download]</td>\n",
       "      <td>5</td>\n",
       "      <td>Probably the best game for learning aspects of...</td>\n",
       "    </tr>\n",
       "  </tbody>\n",
       "</table>\n",
       "</div>"
      ],
      "text/plain": [
       "                                       product_title  star_rating  \\\n",
       "0              Madden NFL 16 - Xbox One Digital Code            2   \n",
       "1  Command & Conquer The Ultimate Collection [Ins...            5   \n",
       "2                                             Sims 4            4   \n",
       "3                         Sid Meier's Civilization V            1   \n",
       "4             Build-a-lot 4: Power Source [Download]            5   \n",
       "\n",
       "                                         review_body  \n",
       "0  I keep buying madden every year hoping they ge...  \n",
       "1  If you are prepping for the end of the world t...  \n",
       "2  i like the new skills like herbalism in this, ...  \n",
       "3  As has been written by so many others, I quick...  \n",
       "4  Probably the best game for learning aspects of...  "
      ]
     },
     "execution_count": 4,
     "metadata": {},
     "output_type": "execute_result"
    }
   ],
   "source": [
    "df.head()"
   ]
  },
  {
   "cell_type": "code",
   "execution_count": 5,
   "metadata": {},
   "outputs": [
    {
     "name": "stdout",
     "output_type": "stream",
     "text": [
      "<class 'pandas.core.frame.DataFrame'>\n",
      "Int64Index: 124650 entries, 0 to 124649\n",
      "Data columns (total 3 columns):\n",
      " #   Column         Non-Null Count   Dtype \n",
      "---  ------         --------------   ----- \n",
      " 0   product_title  124650 non-null  object\n",
      " 1   star_rating    124650 non-null  int64 \n",
      " 2   review_body    124650 non-null  object\n",
      "dtypes: int64(1), object(2)\n",
      "memory usage: 3.8+ MB\n"
     ]
    }
   ],
   "source": [
    "df.info()"
   ]
  },
  {
   "cell_type": "markdown",
   "metadata": {},
   "source": [
    "## Topic Model: NMF with CountVectorizer"
   ]
  },
  {
   "cell_type": "code",
   "execution_count": 6,
   "metadata": {},
   "outputs": [],
   "source": [
    "docs = df['review_body'].values"
   ]
  },
  {
   "cell_type": "code",
   "execution_count": 7,
   "metadata": {},
   "outputs": [],
   "source": [
    "docs_label = [i[:30]+\"...\" for i in docs]"
   ]
  },
  {
   "cell_type": "code",
   "execution_count": 8,
   "metadata": {},
   "outputs": [],
   "source": [
    "STOP = stopwords.words('english')\n",
    "STOP += ['one', 'even', 'city', 'sim', 'sims', 'simcity', 'cities', 'really', 'would', 'lot', 'playing', 'many', 'sonic', 'however', 'still', 'since', 'ever', 'way', 'use', 'played', 'also', 'cdata', 'game', 'games', 'windows', 'object', 'video', 'ps']"
   ]
  },
  {
   "cell_type": "code",
   "execution_count": 9,
   "metadata": {},
   "outputs": [],
   "source": [
    "vectorizer = CountVectorizer(stop_words=STOP, lowercase=True, token_pattern = r'(?u)\\b[A-Za-z]+\\b')\n",
    "doc_word = vectorizer.fit_transform(docs)"
   ]
  },
  {
   "cell_type": "code",
   "execution_count": 10,
   "metadata": {},
   "outputs": [],
   "source": [
    "nmf_model = NMF(10)\n",
    "doc_topic = nmf_model.fit_transform(doc_word)"
   ]
  },
  {
   "cell_type": "code",
   "execution_count": 11,
   "metadata": {},
   "outputs": [],
   "source": [
    "def display_topics(model, feature_names, no_top_words, topic_names=None):\n",
    "    for ix, topic in enumerate(model.components_):\n",
    "        if not topic_names or not topic_names[ix]:\n",
    "            print(\"\\nTopic \", ix)\n",
    "        else:\n",
    "            print(\"\\nTopic: '\",topic_names[ix],\"'\")\n",
    "        print(\", \".join([feature_names[i]\n",
    "                        for i in topic.argsort()[:-no_top_words - 1:-1]]))"
   ]
  },
  {
   "cell_type": "code",
   "execution_count": 12,
   "metadata": {
    "scrolled": true
   },
   "outputs": [
    {
     "name": "stdout",
     "output_type": "stream",
     "text": [
      "\n",
      "Topic  0\n",
      "story, well, first, level, much, character, world, make, combat, find, characters, player, system, two, different, gameplay, around, enemies, though, end, go, things, could, see, experience, weapons, pretty, right, want, back\n",
      "\n",
      "Topic  1\n",
      "download, amazon, steam, origin, install, work, version, pc, computer, downloaded, product, ea, account, run, bought, software, first, problem, key, downloading, update, tried, support, installed, hours, never, issues, got, problems, could\n",
      "\n",
      "Topic  2\n",
      "play, online, ea, want, player, servers, hours, able, server, people, fun, mode, single, players, money, multiplayer, pc, computer, internet, friends, love, free, bought, version, buy, issues, could, day, connection, enjoy\n",
      "\n",
      "Topic  3\n",
      "like, feel, much, people, think, things, better, see, bad, thing, something, love, feels, look, little, know, looks, far, make, say, could, seems, want, real, stuff, actually, kind, different, said, pretty\n",
      "\n",
      "Topic  4\n",
      "get, go, back, work, want, money, things, need, level, could, right, see, run, able, try, start, getting, buy, people, take, got, free, make, know, find, around, weapons, never, hard, map\n",
      "\n",
      "Topic  5\n",
      "great, story, graphics, love, price, deal, best, well, gameplay, pc, series, recommend, awesome, amazing, worth, dlc, first, works, characters, overall, better, got, sale, music, bioshock, definitely, value, loved, fan, highly\n",
      "\n",
      "Topic  6\n",
      "new, expansion, content, version, much, old, dlc, player, world, players, pack, original, better, release, features, civ, make, maps, add, ea, mode, build, buy, series, campaign, added, base, map, see, different\n",
      "\n",
      "Topic  7\n",
      "time, first, every, long, hours, back, take, go, money, find, around, times, going, try, waste, start, make, things, think, takes, little, spend, got, easy, took, minutes, save, see, something, spent\n",
      "\n",
      "Topic  8\n",
      "good, fun, graphics, pretty, well, much, easy, bad, worth, price, little, bit, recommend, gameplay, story, better, overall, nice, multiplayer, challenging, got, best, puzzles, old, lots, love, hidden, pc, hard, quite\n",
      "\n",
      "Topic  9\n",
      "code, buy, card, xbox, amazon, online, live, purchase, account, credit, store, got, points, psn, bought, money, price, microsoft, easy, buying, gift, month, playstation, cards, membership, free, gold, want, worked, product\n"
     ]
    }
   ],
   "source": [
    "display_topics(nmf_model, vectorizer.get_feature_names(), 30)"
   ]
  },
  {
   "cell_type": "code",
   "execution_count": 13,
   "metadata": {
    "scrolled": true
   },
   "outputs": [],
   "source": [
    "H = pd.DataFrame(doc_topic.round(5),\n",
    "             index = docs_label,\n",
    "             columns = [\"game content\", \"platform availability\", \"online\", \"critique\", \"negative feedback\", \"positive feeback\", \"dlc\", \"worthwhile\", \"difficulty\", \"performance\"])"
   ]
  },
  {
   "cell_type": "code",
   "execution_count": 14,
   "metadata": {
    "scrolled": true
   },
   "outputs": [
    {
     "data": {
      "text/html": [
       "<div>\n",
       "<style scoped>\n",
       "    .dataframe tbody tr th:only-of-type {\n",
       "        vertical-align: middle;\n",
       "    }\n",
       "\n",
       "    .dataframe tbody tr th {\n",
       "        vertical-align: top;\n",
       "    }\n",
       "\n",
       "    .dataframe thead th {\n",
       "        text-align: right;\n",
       "    }\n",
       "</style>\n",
       "<table border=\"1\" class=\"dataframe\">\n",
       "  <thead>\n",
       "    <tr style=\"text-align: right;\">\n",
       "      <th></th>\n",
       "      <th>index</th>\n",
       "      <th>game content</th>\n",
       "      <th>platform availability</th>\n",
       "      <th>online</th>\n",
       "      <th>critique</th>\n",
       "      <th>negative feedback</th>\n",
       "      <th>positive feeback</th>\n",
       "      <th>dlc</th>\n",
       "      <th>worthwhile</th>\n",
       "      <th>difficulty</th>\n",
       "      <th>performance</th>\n",
       "      <th>star_rating</th>\n",
       "      <th>product_title</th>\n",
       "    </tr>\n",
       "  </thead>\n",
       "  <tbody>\n",
       "    <tr>\n",
       "      <th>0</th>\n",
       "      <td>I keep buying madden every yea...</td>\n",
       "      <td>0.02183</td>\n",
       "      <td>0.03181</td>\n",
       "      <td>0.17489</td>\n",
       "      <td>0.05257</td>\n",
       "      <td>0.10079</td>\n",
       "      <td>0.05883</td>\n",
       "      <td>0.02579</td>\n",
       "      <td>0.00409</td>\n",
       "      <td>0.00000</td>\n",
       "      <td>0.02094</td>\n",
       "      <td>2</td>\n",
       "      <td>Madden NFL 16 - Xbox One Digital Code</td>\n",
       "    </tr>\n",
       "    <tr>\n",
       "      <th>1</th>\n",
       "      <td>If you are prepping for the en...</td>\n",
       "      <td>0.01896</td>\n",
       "      <td>0.00314</td>\n",
       "      <td>0.00000</td>\n",
       "      <td>0.00000</td>\n",
       "      <td>0.00000</td>\n",
       "      <td>0.05308</td>\n",
       "      <td>0.00205</td>\n",
       "      <td>0.00000</td>\n",
       "      <td>0.00000</td>\n",
       "      <td>0.00000</td>\n",
       "      <td>5</td>\n",
       "      <td>Command &amp; Conquer The Ultimate Collection [Ins...</td>\n",
       "    </tr>\n",
       "    <tr>\n",
       "      <th>2</th>\n",
       "      <td>i like the new skills like her...</td>\n",
       "      <td>0.00000</td>\n",
       "      <td>0.00000</td>\n",
       "      <td>0.00000</td>\n",
       "      <td>0.12537</td>\n",
       "      <td>0.00000</td>\n",
       "      <td>0.00000</td>\n",
       "      <td>0.10111</td>\n",
       "      <td>0.00000</td>\n",
       "      <td>0.02071</td>\n",
       "      <td>0.00000</td>\n",
       "      <td>4</td>\n",
       "      <td>Sims 4</td>\n",
       "    </tr>\n",
       "    <tr>\n",
       "      <th>3</th>\n",
       "      <td>As has been written by so many...</td>\n",
       "      <td>0.00000</td>\n",
       "      <td>0.01953</td>\n",
       "      <td>0.00149</td>\n",
       "      <td>0.00474</td>\n",
       "      <td>0.00129</td>\n",
       "      <td>0.00337</td>\n",
       "      <td>0.04409</td>\n",
       "      <td>0.00368</td>\n",
       "      <td>0.04026</td>\n",
       "      <td>0.00000</td>\n",
       "      <td>1</td>\n",
       "      <td>Sid Meier's Civilization V</td>\n",
       "    </tr>\n",
       "    <tr>\n",
       "      <th>4</th>\n",
       "      <td>Probably the best game for lea...</td>\n",
       "      <td>0.03178</td>\n",
       "      <td>0.00352</td>\n",
       "      <td>0.00216</td>\n",
       "      <td>0.00257</td>\n",
       "      <td>0.00000</td>\n",
       "      <td>0.00324</td>\n",
       "      <td>0.01128</td>\n",
       "      <td>0.00356</td>\n",
       "      <td>0.00603</td>\n",
       "      <td>0.00017</td>\n",
       "      <td>5</td>\n",
       "      <td>Build-a-lot 4: Power Source [Download]</td>\n",
       "    </tr>\n",
       "  </tbody>\n",
       "</table>\n",
       "</div>"
      ],
      "text/plain": [
       "                               index  game content  platform availability  \\\n",
       "0  I keep buying madden every yea...       0.02183                0.03181   \n",
       "1  If you are prepping for the en...       0.01896                0.00314   \n",
       "2  i like the new skills like her...       0.00000                0.00000   \n",
       "3  As has been written by so many...       0.00000                0.01953   \n",
       "4  Probably the best game for lea...       0.03178                0.00352   \n",
       "\n",
       "    online  critique  negative feedback  positive feeback      dlc  \\\n",
       "0  0.17489   0.05257            0.10079           0.05883  0.02579   \n",
       "1  0.00000   0.00000            0.00000           0.05308  0.00205   \n",
       "2  0.00000   0.12537            0.00000           0.00000  0.10111   \n",
       "3  0.00149   0.00474            0.00129           0.00337  0.04409   \n",
       "4  0.00216   0.00257            0.00000           0.00324  0.01128   \n",
       "\n",
       "   worthwhile  difficulty  performance  star_rating  \\\n",
       "0     0.00409     0.00000      0.02094            2   \n",
       "1     0.00000     0.00000      0.00000            5   \n",
       "2     0.00000     0.02071      0.00000            4   \n",
       "3     0.00368     0.04026      0.00000            1   \n",
       "4     0.00356     0.00603      0.00017            5   \n",
       "\n",
       "                                       product_title  \n",
       "0              Madden NFL 16 - Xbox One Digital Code  \n",
       "1  Command & Conquer The Ultimate Collection [Ins...  \n",
       "2                                             Sims 4  \n",
       "3                         Sid Meier's Civilization V  \n",
       "4             Build-a-lot 4: Power Source [Download]  "
      ]
     },
     "execution_count": 14,
     "metadata": {},
     "output_type": "execute_result"
    }
   ],
   "source": [
    "rating = df['star_rating']\n",
    "product_title = df['product_title']\n",
    "\n",
    "H = H.reset_index().join(rating)\n",
    "H = H.join(product_title)\n",
    "H.head()"
   ]
  },
  {
   "cell_type": "markdown",
   "metadata": {},
   "source": [
    "## Rating Count Distribution per Game"
   ]
  },
  {
   "cell_type": "code",
   "execution_count": 15,
   "metadata": {
    "scrolled": false
   },
   "outputs": [
    {
     "data": {
      "text/html": [
       "<div>\n",
       "<style scoped>\n",
       "    .dataframe tbody tr th:only-of-type {\n",
       "        vertical-align: middle;\n",
       "    }\n",
       "\n",
       "    .dataframe tbody tr th {\n",
       "        vertical-align: top;\n",
       "    }\n",
       "\n",
       "    .dataframe thead th {\n",
       "        text-align: right;\n",
       "    }\n",
       "</style>\n",
       "<table border=\"1\" class=\"dataframe\">\n",
       "  <thead>\n",
       "    <tr style=\"text-align: right;\">\n",
       "      <th></th>\n",
       "      <th>product_title</th>\n",
       "      <th>star_rating</th>\n",
       "      <th>count</th>\n",
       "    </tr>\n",
       "  </thead>\n",
       "  <tbody>\n",
       "    <tr>\n",
       "      <th>0</th>\n",
       "      <td>007 Legends [Download]</td>\n",
       "      <td>1</td>\n",
       "      <td>2</td>\n",
       "    </tr>\n",
       "    <tr>\n",
       "      <th>1</th>\n",
       "      <td>007 Legends [Download]</td>\n",
       "      <td>3</td>\n",
       "      <td>2</td>\n",
       "    </tr>\n",
       "    <tr>\n",
       "      <th>2</th>\n",
       "      <td>007 Legends [Download]</td>\n",
       "      <td>4</td>\n",
       "      <td>1</td>\n",
       "    </tr>\n",
       "    <tr>\n",
       "      <th>3</th>\n",
       "      <td>007 Legends [Download]</td>\n",
       "      <td>5</td>\n",
       "      <td>1</td>\n",
       "    </tr>\n",
       "    <tr>\n",
       "      <th>4</th>\n",
       "      <td>1 Moment Of Time: Silentville [Download]</td>\n",
       "      <td>1</td>\n",
       "      <td>1</td>\n",
       "    </tr>\n",
       "  </tbody>\n",
       "</table>\n",
       "</div>"
      ],
      "text/plain": [
       "                              product_title  star_rating  count\n",
       "0                    007 Legends [Download]            1      2\n",
       "1                    007 Legends [Download]            3      2\n",
       "2                    007 Legends [Download]            4      1\n",
       "3                    007 Legends [Download]            5      1\n",
       "4  1 Moment Of Time: Silentville [Download]            1      1"
      ]
     },
     "execution_count": 15,
     "metadata": {},
     "output_type": "execute_result"
    }
   ],
   "source": [
    "rating_count = pd.DataFrame(H.groupby('product_title')['star_rating'].value_counts())\n",
    "rating_count['count']=H.groupby('product_title')['star_rating'].value_counts()\n",
    "rating_count = rating_count.drop(columns='star_rating')\n",
    "rating_count = rating_count.reset_index()\n",
    "rating_count['star_rating']=rating_count['star_rating'].astype(int)\n",
    "rating_count.head()"
   ]
  },
  {
   "cell_type": "code",
   "execution_count": 16,
   "metadata": {},
   "outputs": [
    {
     "data": {
      "text/plain": [
       "2.8333333333333335"
      ]
     },
     "execution_count": 16,
     "metadata": {},
     "output_type": "execute_result"
    }
   ],
   "source": [
    "# Average Game Rating\n",
    "avg_rating = H[H['product_title']=='007 Legends [Download]'].star_rating.mean()\n",
    "avg_rating"
   ]
  },
  {
   "cell_type": "code",
   "execution_count": 17,
   "metadata": {},
   "outputs": [
    {
     "data": {
      "text/plain": [
       "<AxesSubplot:xlabel='star_rating', ylabel='count'>"
      ]
     },
     "execution_count": 17,
     "metadata": {},
     "output_type": "execute_result"
    },
    {
     "data": {
      "image/png": "[encoded data removed]",
      "text/plain": [
       "<Figure size 432x288 with 1 Axes>"
      ]
     },
     "metadata": {
      "needs_background": "light"
     },
     "output_type": "display_data"
    }
   ],
   "source": [
    "import seaborn as sns\n",
    "import matplotlib.pyplot as plt\n",
    "\n",
    "data1= rating_count[rating_count['product_title']=='007 Legends [Download]']\n",
    "fig, ax = plt.subplots()\n",
    "sns.barplot(data=data1, x='star_rating', y='count', ax=ax)"
   ]
  },
  {
   "cell_type": "code",
   "execution_count": 18,
   "metadata": {
    "scrolled": true
   },
   "outputs": [
    {
     "ename": "KeyError",
     "evalue": "'negative_feedback'",
     "output_type": "error",
     "traceback": [
      "\u001b[1;31m---------------------------------------------------------------------------\u001b[0m",
      "\u001b[1;31mKeyError\u001b[0m                                  Traceback (most recent call last)",
      "\u001b[1;32m<ipython-input-18-40bb7e352d7b>\u001b[0m in \u001b[0;36m<module>\u001b[1;34m\u001b[0m\n\u001b[1;32m----> 1\u001b[1;33m \u001b[0mH\u001b[0m\u001b[1;33m.\u001b[0m\u001b[0msort_values\u001b[0m\u001b[1;33m(\u001b[0m\u001b[0mby\u001b[0m\u001b[1;33m=\u001b[0m\u001b[1;33m[\u001b[0m\u001b[1;34m'negative_feedback'\u001b[0m\u001b[1;33m]\u001b[0m\u001b[1;33m,\u001b[0m \u001b[0mascending\u001b[0m\u001b[1;33m=\u001b[0m\u001b[1;32mFalse\u001b[0m\u001b[1;33m)\u001b[0m\u001b[1;33m.\u001b[0m\u001b[0mhead\u001b[0m\u001b[1;33m(\u001b[0m\u001b[1;36m14\u001b[0m\u001b[1;33m)\u001b[0m\u001b[1;33m\u001b[0m\u001b[1;33m\u001b[0m\u001b[0m\n\u001b[0m",
      "\u001b[1;32m~\\anaconda3\\lib\\site-packages\\pandas\\core\\frame.py\u001b[0m in \u001b[0;36msort_values\u001b[1;34m(self, by, axis, ascending, inplace, kind, na_position, ignore_index, key)\u001b[0m\n\u001b[0;32m   5292\u001b[0m \u001b[1;33m\u001b[0m\u001b[0m\n\u001b[0;32m   5293\u001b[0m             \u001b[0mby\u001b[0m \u001b[1;33m=\u001b[0m \u001b[0mby\u001b[0m\u001b[1;33m[\u001b[0m\u001b[1;36m0\u001b[0m\u001b[1;33m]\u001b[0m\u001b[1;33m\u001b[0m\u001b[1;33m\u001b[0m\u001b[0m\n\u001b[1;32m-> 5294\u001b[1;33m             \u001b[0mk\u001b[0m \u001b[1;33m=\u001b[0m \u001b[0mself\u001b[0m\u001b[1;33m.\u001b[0m\u001b[0m_get_label_or_level_values\u001b[0m\u001b[1;33m(\u001b[0m\u001b[0mby\u001b[0m\u001b[1;33m,\u001b[0m \u001b[0maxis\u001b[0m\u001b[1;33m=\u001b[0m\u001b[0maxis\u001b[0m\u001b[1;33m)\u001b[0m\u001b[1;33m\u001b[0m\u001b[1;33m\u001b[0m\u001b[0m\n\u001b[0m\u001b[0;32m   5295\u001b[0m \u001b[1;33m\u001b[0m\u001b[0m\n\u001b[0;32m   5296\u001b[0m             \u001b[1;31m# need to rewrap column in Series to apply key function\u001b[0m\u001b[1;33m\u001b[0m\u001b[1;33m\u001b[0m\u001b[1;33m\u001b[0m\u001b[0m\n",
      "\u001b[1;32m~\\anaconda3\\lib\\site-packages\\pandas\\core\\generic.py\u001b[0m in \u001b[0;36m_get_label_or_level_values\u001b[1;34m(self, key, axis)\u001b[0m\n\u001b[0;32m   1561\u001b[0m             \u001b[0mvalues\u001b[0m \u001b[1;33m=\u001b[0m \u001b[0mself\u001b[0m\u001b[1;33m.\u001b[0m\u001b[0maxes\u001b[0m\u001b[1;33m[\u001b[0m\u001b[0maxis\u001b[0m\u001b[1;33m]\u001b[0m\u001b[1;33m.\u001b[0m\u001b[0mget_level_values\u001b[0m\u001b[1;33m(\u001b[0m\u001b[0mkey\u001b[0m\u001b[1;33m)\u001b[0m\u001b[1;33m.\u001b[0m\u001b[0m_values\u001b[0m\u001b[1;33m\u001b[0m\u001b[1;33m\u001b[0m\u001b[0m\n\u001b[0;32m   1562\u001b[0m         \u001b[1;32melse\u001b[0m\u001b[1;33m:\u001b[0m\u001b[1;33m\u001b[0m\u001b[1;33m\u001b[0m\u001b[0m\n\u001b[1;32m-> 1563\u001b[1;33m             \u001b[1;32mraise\u001b[0m \u001b[0mKeyError\u001b[0m\u001b[1;33m(\u001b[0m\u001b[0mkey\u001b[0m\u001b[1;33m)\u001b[0m\u001b[1;33m\u001b[0m\u001b[1;33m\u001b[0m\u001b[0m\n\u001b[0m\u001b[0;32m   1564\u001b[0m \u001b[1;33m\u001b[0m\u001b[0m\n\u001b[0;32m   1565\u001b[0m         \u001b[1;31m# Check for duplicates\u001b[0m\u001b[1;33m\u001b[0m\u001b[1;33m\u001b[0m\u001b[1;33m\u001b[0m\u001b[0m\n",
      "\u001b[1;31mKeyError\u001b[0m: 'negative_feedback'"
     ]
    }
   ],
   "source": [
    "H.sort_values(by=['negative feedback'], ascending=False).head(14)"
   ]
  },
  {
   "cell_type": "code",
   "execution_count": null,
   "metadata": {},
   "outputs": [],
   "source": [
    "H.loc"
   ]
  },
  {
   "cell_type": "code",
   "execution_count": null,
   "metadata": {
    "scrolled": true
   },
   "outputs": [],
   "source": [
    "H_new = H.set_index('index')\n",
    "H_new.head()"
   ]
  },
  {
   "cell_type": "code",
   "execution_count": null,
   "metadata": {},
   "outputs": [],
   "source": [
    "H_new['star_rating'] = H_new['star_rating'].replace([1,2], 'negative')\n",
    "H_new['star_rating'] = H_new['star_rating'].replace([4,5], 'positive')"
   ]
  },
  {
   "cell_type": "code",
   "execution_count": null,
   "metadata": {
    "scrolled": true
   },
   "outputs": [],
   "source": [
    "H_avg = H_new.groupby('star_rating').mean()\n",
    "H_avg.head()"
   ]
  },
  {
   "cell_type": "markdown",
   "metadata": {},
   "source": [
    "Negative top Topics: download 0.029, online 0.027, negative_feedback 0.021, worth_time 0.016 <br>\n",
    "Positive top Topics: positive_feedback 0.020, difficulty 0.020, online 0.019, performance 0.018, "
   ]
  },
  {
   "cell_type": "markdown",
   "metadata": {},
   "source": [
    "## Topic Distribution Per Game"
   ]
  },
  {
   "cell_type": "code",
   "execution_count": null,
   "metadata": {},
   "outputs": [],
   "source": [
    "H_new.loc[(H_new['product_title'] == 'Tropico 5') & (H_new['star_rating'] == 'positive')].mean().sort_values(ascending=False)"
   ]
  },
  {
   "cell_type": "code",
   "execution_count": null,
   "metadata": {},
   "outputs": [],
   "source": [
    "H_new.loc[(H_new['product_title'] == 'Tropico 5') & (H_new['star_rating'] == 'negative')].mean().sort_values(ascending=False)"
   ]
  }
 ],
 "metadata": {
  "kernelspec": {
   "display_name": "Python 3",
   "language": "python",
   "name": "python3"
  },
  "language_info": {
   "codemirror_mode": {
    "name": "ipython",
    "version": 3
   },
   "file_extension": ".py",
   "mimetype": "text/x-python",
   "name": "python",
   "nbconvert_exporter": "python",
   "pygments_lexer": "ipython3",
   "version": "3.8.5"
  }
 },
 "nbformat": 4,
 "nbformat_minor": 4
}
